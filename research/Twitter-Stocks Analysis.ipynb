{
 "cells": [
  {
   "cell_type": "code",
   "execution_count": 1,
   "metadata": {},
   "outputs": [],
   "source": [
    "import texthero as hero\n",
    "import pandas as pd\n",
    "from googletrans import Translator\n",
    "from time import sleep"
   ]
  },
  {
   "cell_type": "code",
   "execution_count": 2,
   "metadata": {},
   "outputs": [],
   "source": [
    "translator = Translator()"
   ]
  },
  {
   "cell_type": "code",
   "execution_count": 3,
   "metadata": {},
   "outputs": [],
   "source": [
    "data = pd.read_csv(\"labelled_data.csv\", index_col=[0])"
   ]
  },
  {
   "cell_type": "code",
   "execution_count": 4,
   "metadata": {},
   "outputs": [
    {
     "data": {
      "text/html": [
       "<div>\n",
       "<style scoped>\n",
       "    .dataframe tbody tr th:only-of-type {\n",
       "        vertical-align: middle;\n",
       "    }\n",
       "\n",
       "    .dataframe tbody tr th {\n",
       "        vertical-align: top;\n",
       "    }\n",
       "\n",
       "    .dataframe thead th {\n",
       "        text-align: right;\n",
       "    }\n",
       "</style>\n",
       "<table border=\"1\" class=\"dataframe\">\n",
       "  <thead>\n",
       "    <tr style=\"text-align: right;\">\n",
       "      <th></th>\n",
       "      <th>Date</th>\n",
       "      <th>Tweet</th>\n",
       "      <th>Difference</th>\n",
       "      <th>Label</th>\n",
       "    </tr>\n",
       "  </thead>\n",
       "  <tbody>\n",
       "    <tr>\n",
       "      <th>0</th>\n",
       "      <td>2011-12-20</td>\n",
       "      <td>ÇELİK:''KIDEM TAZMİNATININ FONA DÖNÜŞTÜRÜLMESİ...</td>\n",
       "      <td>-0.00865</td>\n",
       "      <td>-1</td>\n",
       "    </tr>\n",
       "    <tr>\n",
       "      <th>1</th>\n",
       "      <td>2011-12-20</td>\n",
       "      <td>İMKB-100 GÜNÜ (%2.73)1384.86 PUAN ARTIŞLA 5212...</td>\n",
       "      <td>-0.00865</td>\n",
       "      <td>-1</td>\n",
       "    </tr>\n",
       "    <tr>\n",
       "      <th>2</th>\n",
       "      <td>2011-12-20</td>\n",
       "      <td>*MERKEZİ YÖNETİM BRÜT DIŞ BORÇ STOKU KASIMDA 1...</td>\n",
       "      <td>-0.00865</td>\n",
       "      <td>-1</td>\n",
       "    </tr>\n",
       "    <tr>\n",
       "      <th>3</th>\n",
       "      <td>2011-12-20</td>\n",
       "      <td>MERKEZİ YÖNETİM BRÜT BORÇ STOKU KASIMDA 514.1 ...</td>\n",
       "      <td>-0.00865</td>\n",
       "      <td>-1</td>\n",
       "    </tr>\n",
       "    <tr>\n",
       "      <th>4</th>\n",
       "      <td>2011-12-20</td>\n",
       "      <td>MERKEZİ YÖNETİM BRÜT İÇ BORÇ STOKU KASIMDA 366...</td>\n",
       "      <td>-0.00865</td>\n",
       "      <td>-1</td>\n",
       "    </tr>\n",
       "    <tr>\n",
       "      <th>...</th>\n",
       "      <td>...</td>\n",
       "      <td>...</td>\n",
       "      <td>...</td>\n",
       "      <td>...</td>\n",
       "    </tr>\n",
       "    <tr>\n",
       "      <th>94281</th>\n",
       "      <td>2020-11-06</td>\n",
       "      <td>BofA Securities, Coca-Cola İçecek için hedef f...</td>\n",
       "      <td>-0.01325</td>\n",
       "      <td>-1</td>\n",
       "    </tr>\n",
       "    <tr>\n",
       "      <th>94282</th>\n",
       "      <td>2020-11-06</td>\n",
       "      <td>Ak Yatırım,  #ULKER 30,00 TL HF ve 'Endeksin Ü...</td>\n",
       "      <td>-0.01325</td>\n",
       "      <td>-1</td>\n",
       "    </tr>\n",
       "    <tr>\n",
       "      <th>94283</th>\n",
       "      <td>2020-11-06</td>\n",
       "      <td>BIST100 GÜNE (%0,04)0,47 PUAN ARTIŞLA 1.180,49...</td>\n",
       "      <td>-0.01325</td>\n",
       "      <td>-1</td>\n",
       "    </tr>\n",
       "    <tr>\n",
       "      <th>94284</th>\n",
       "      <td>2020-11-06</td>\n",
       "      <td>Almanya'da Eylül'de sanayi üretimi aylık %1,6 ...</td>\n",
       "      <td>-0.01325</td>\n",
       "      <td>-1</td>\n",
       "    </tr>\n",
       "    <tr>\n",
       "      <th>94285</th>\n",
       "      <td>2020-11-06</td>\n",
       "      <td>\"Yasal Oyları Saysanız Kolayca Kazandığımı Gör...</td>\n",
       "      <td>-0.01325</td>\n",
       "      <td>-1</td>\n",
       "    </tr>\n",
       "  </tbody>\n",
       "</table>\n",
       "<p>94286 rows × 4 columns</p>\n",
       "</div>"
      ],
      "text/plain": [
       "             Date                                              Tweet  \\\n",
       "0      2011-12-20  ÇELİK:''KIDEM TAZMİNATININ FONA DÖNÜŞTÜRÜLMESİ...   \n",
       "1      2011-12-20  İMKB-100 GÜNÜ (%2.73)1384.86 PUAN ARTIŞLA 5212...   \n",
       "2      2011-12-20  *MERKEZİ YÖNETİM BRÜT DIŞ BORÇ STOKU KASIMDA 1...   \n",
       "3      2011-12-20  MERKEZİ YÖNETİM BRÜT BORÇ STOKU KASIMDA 514.1 ...   \n",
       "4      2011-12-20  MERKEZİ YÖNETİM BRÜT İÇ BORÇ STOKU KASIMDA 366...   \n",
       "...           ...                                                ...   \n",
       "94281  2020-11-06  BofA Securities, Coca-Cola İçecek için hedef f...   \n",
       "94282  2020-11-06  Ak Yatırım,  #ULKER 30,00 TL HF ve 'Endeksin Ü...   \n",
       "94283  2020-11-06  BIST100 GÜNE (%0,04)0,47 PUAN ARTIŞLA 1.180,49...   \n",
       "94284  2020-11-06  Almanya'da Eylül'de sanayi üretimi aylık %1,6 ...   \n",
       "94285  2020-11-06  \"Yasal Oyları Saysanız Kolayca Kazandığımı Gör...   \n",
       "\n",
       "       Difference  Label  \n",
       "0        -0.00865     -1  \n",
       "1        -0.00865     -1  \n",
       "2        -0.00865     -1  \n",
       "3        -0.00865     -1  \n",
       "4        -0.00865     -1  \n",
       "...           ...    ...  \n",
       "94281    -0.01325     -1  \n",
       "94282    -0.01325     -1  \n",
       "94283    -0.01325     -1  \n",
       "94284    -0.01325     -1  \n",
       "94285    -0.01325     -1  \n",
       "\n",
       "[94286 rows x 4 columns]"
      ]
     },
     "execution_count": 4,
     "metadata": {},
     "output_type": "execute_result"
    }
   ],
   "source": [
    "data"
   ]
  },
  {
   "cell_type": "code",
   "execution_count": 5,
   "metadata": {},
   "outputs": [],
   "source": [
    "tweets = data[\"Tweet\"].values"
   ]
  },
  {
   "cell_type": "code",
   "execution_count": 6,
   "metadata": {},
   "outputs": [
    {
     "data": {
      "text/plain": [
       "\"ÇELİK:''KIDEM TAZMİNATININ FONA DÖNÜŞTÜRÜLMESİ GELECEĞE YÖNELİK BİR BAKIŞ AÇISI, GELECEĞE YÖNELİK BİR DÜZENLEMEDİR''\""
      ]
     },
     "execution_count": 6,
     "metadata": {},
     "output_type": "execute_result"
    }
   ],
   "source": [
    "tweets[0]"
   ]
  },
  {
   "cell_type": "code",
   "execution_count": 10,
   "metadata": {},
   "outputs": [
    {
     "data": {
      "text/plain": [
       "[\"ÇELİK:''KIDEM TAZMİNATININ FONA DÖNÜŞTÜRÜLMESİ GELECEĞE YÖNELİK BİR BAKIŞ AÇISI, GELECEĞE YÖNELİK BİR DÜZENLEMEDİR''\",\n",
       " 'İMKB-100 GÜNÜ (%2.73)1384.86 PUAN ARTIŞLA 52126.94 PUANDAN KAPATTI',\n",
       " '*MERKEZİ YÖNETİM BRÜT DIŞ BORÇ STOKU KASIMDA 147.7 MİLYAR TL(ÖNCEKİ 143.1MLR)-HAZİNE',\n",
       " 'MERKEZİ YÖNETİM BRÜT BORÇ STOKU KASIMDA 514.1 MİLYAR TL(ÖNCEKİ 511.1MLR)-HAZİNE',\n",
       " 'MERKEZİ YÖNETİM BRÜT İÇ BORÇ STOKU KASIMDA 366.4 MİLYAR TL(ÖNCEKİ 368.0MLR)-HAZİNE',\n",
       " \"Turkish Treasury's November Debt Stock At TRY25.97bn (Previous TRY25.9bn)\",\n",
       " 'FED/KOCHERLAKOTA, \"İŞSİZLİĞİN 2013\\'DE YÜZDE 7.5\\'E GERİLEMESİNİ BEKLİYORUM\"',\n",
       " 'FED/KOCHERLAKOTA, \"PARA POLİTİKASI EKONOMİK ŞARTLARA GÖRE GELİŞMELİ\"',\n",
       " 'FED/KOCHERLAKOTA, \"FED\\'İN İSTİHDAM, ENFLASYON HEDEFLERİNE ULAŞMAK İÇİN SİSTEMATİK BİR SALDIRI PLANINA İHTİYACI VAR\"',\n",
       " 'FED/KOCHERLAKOTA, \"STRATEJİLER VE HEDEFLER KONUSUNDA NET OLMAMIZ GEREKLİ\"',\n",
       " 'FED/KOCHERLAKOTA, \"RESESYONA DOĞRU GİTMEDİĞİMİZDEN ŞU ANDA DAHA FAZLA EMİNİM\"',\n",
       " 'FED/KOCHERLAKOTA, \"2012\\'DE BÜYÜMENİN YÜZDE 3\\'E YAKIN OLMASINI BEKLİYORUM\"',\n",
       " \"TAKASBANK PARA PİYASASI'NDA 432.4 MİLYON TL İŞLEM HACMİ GERÇEKLEŞTİ\",\n",
       " 'YUNANİSTAN MALİYE BAKANI: YENİ KREDİ İLE İLGİLİ GÖRÜŞMELER 16 OCAKTA BAŞLAYACAK',\n",
       " '*FED/KOCHERLAKOTA, \"ABD EKONOMİSİ İÇİN BİRAZ DAHA İYİMSERİM\"',\n",
       " \"TCMB REPO PİYASASINDA, PİYASA YAPICI BANKALARIN GECELİK KULLANDIĞI MİKTAR 10 MİLYAR 327 MİLYON TL'YE ÇIKTI\",\n",
       " \"TCMB REPO PİYASASINDA, PİYASA YAPICI BANKALARIN GECELİK KULLANDIĞI MİKTAR 11 MİLYAR 71 MİLYON TL'YE ÇIKTI\",\n",
       " \"MACARİSTAN MERKEZ BANKASI 2012 TÜFE BEKLENTİSİNİ YÜZDE 4.9'DAN YÜZDE 5.0'A ÇIKARDI\",\n",
       " 'DÜNYA ALÜMİNYUM ÜRETİMİ KASIM AYINDA 78 BİN TON DÜŞÜŞLE 2.121 MİLYON TON OLDU-IAI',\n",
       " \"MACARİSTAN MERKEZ BANKASI 2012 BÜYÜME BEKLENTİSİNİ YÜZDE 0.6'DAN YÜZDE 0.1'E İNDİRDİ\",\n",
       " \"Turkey's 11M11 Steel Production +17.6% On The Year At 30.99mn Tons - Worldsteel\",\n",
       " 'İSPANYA/ALMANYA 10 YIL VADELİ TAHVİLLERİNDE GETİRİ FARKI 23 BAZ PUAN DÜŞÜŞLE 314 BAZ PUANA GERİLEDİ',\n",
       " 'İTALYA/ALMANYA 10 YIL VADELİ TAHVİLLERİNDE GETİRİ FARKI 37 BAZ PUAN DÜŞÜŞLE 462 BAZ PUANA GERİLEDİ',\n",
       " 'FITCH, \"AVRO BÖLGESİ KRİZİ GLOBAL ÜLKE KREDİ NOTU GÖRÜNÜMLERİNİ DOMİNE EDİYOR\"',\n",
       " 'Turkey Ctrl Bank Sells TR5bn At 5.75% In One Week Repo Auction',\n",
       " \"MOODY'S, MISIR'IN KREDİ NOTUNU B2'YE İNDİRDİ\",\n",
       " 'The IMKB-100 closes trading -0.73% at 51,747. With the local agenda clear Turkish equities looked to global markets for direction today',\n",
       " 'FITCH: FRANSIZ BANKALARININ İÇİNDE BULUNULAN ZORLU ORTAMDA GÜVENİ ONARMALARI GEREKİR',\n",
       " 'FITCH, \"KÖRFEZ BÖLGESİ, ORTA DOĞU BANKALARI İÇİN GÖRÜNÜM \\'DURAĞAN\\'',\n",
       " \"FİTCH, İSPANYA'DA 14 BÖLGESEL YÖNETİM VE YEREL İDARENİN NOTLARINI NEGATİF İZLEMEYE ALDI\",\n",
       " 'MALİYE BAKANI/ŞİMŞEK: 2012 YILINDA 1.500 YENİ VERGİ MÜFETTİŞ YARDIMCISI ALARAK DENETİM KAPASİTEMİZİ ARTIRMAYI HEDEFLİYORUZ',\n",
       " \"AB KOMİSYONU, DEXİA'YA 45 MİLYAR AVRO DEVLET GARANTİSİNE GEÇİCİ ONAY VERDİ\",\n",
       " 'BAŞÇI, 27 ARALIKTA \"2012 YILINDA PARA VE KUR POLİTİKASI\" KONULU BİR BASIN TOPLANTISI DÜZENLEYECEK',\n",
       " 'IMKB 100 Expected To Open Up 0.34% at 52,300 - Foreks Survey',\n",
       " 'Analistlerin İMKB 100 Endeksi açılış değerine ilişkin medyan  tahmini 174, ortalama tahmini ise 278 puan oldu-FOREKS ANKET',\n",
       " \"JCR, JAPONYA'NIN KREDİ NOTUNU 'DURAĞAN' GÖRÜNÜM İLE AAA OLARAK TEYİT ETTİ\",\n",
       " \"JAPON KREDİ DERECELENDİRME ŞİRKETİ R&I, JAPONYA'NIN KREDİ NOTUNU AAA'DAN AA+'YA İNDİRDİ\",\n",
       " \"JAPON KREDİ DERECELENDİRME ŞİRKETİ R&I, JAPONYA'NIN KREDİ NOTU GÖRÜNÜMÜNÜ 'DURAĞAN' OLARAK BELİRLEDİ\",\n",
       " 'İMKB-100 GÜNE (%0.64)331.66 PUAN ARTIŞLA 52458.60 PUANDAN BAŞLADI',\n",
       " 'CBRT: The Contribution Of Net Exports To Growth Will Increase As Consumption Demand Slows Down',\n",
       " 'CBRT: The Improvement Trend In The Current Account Balance Is Becoming More Noticeable',\n",
       " 'CBRT: It Is Expected That Inflation Will Show A Gradual Decline In 2012, Closing In On The 5% Target In The Final Months Of The Year',\n",
       " 'CBRT:Tight Monetary Policies Must Be Maintained For A While Longer In Order For Inflation Outlook To Be Inline With Mid-Term Targets',\n",
       " 'YIL SONU TÜFE BEKLENTİSİ 10.26% (ÖNCEKİ 10.25%)-MERKEZ BANKASI ANKETİ',\n",
       " 'GELECEK YIL SONU GSYH BEKLENTİSİ 3.4% (ÖNCEKİ 3.5%)-MERKEZ BANKASI ANKETİ',\n",
       " \"IMKB 100 açılış anketinde bugün en yakın tahmini +103.5 puanlık öngörüsüyle Eti Yatırım'dan Adem Özen yaptı\",\n",
       " 'GELECEK YIL SONU İÇİN CARİ AÇIK BEKLENTİSİ 62.95 MİLYAR DOLAR(ÖNCEKİ -64.2MLR)-MERKEZ BANKASI ANKETİ',\n",
       " \"ABD BAŞKANI OBAMA, SAAT 19.15'TE BASIN TOPLANTISI DÜZENLEYECEK\",\n",
       " \"İTALYA'DA SENATO KEMER SIKMA TEDBİRLERİNE ONAY VERDİ\",\n",
       " \"MICHIGAN ÜNİVERSİTESİ TÜKETİCİ, CARİ ŞARTLAR VE BEKLENTİ ENDEKSLERİ HAZİRAN'DAN BU YANA GÖRÜLEN EN YÜKSEK SEVİYEYE ÇIKTILAR\"]"
      ]
     },
     "execution_count": 10,
     "metadata": {},
     "output_type": "execute_result"
    }
   ],
   "source": [
    "tweets[0:50].tolist()"
   ]
  },
  {
   "cell_type": "code",
   "execution_count": null,
   "metadata": {},
   "outputs": [],
   "source": []
  },
  {
   "cell_type": "code",
   "execution_count": null,
   "metadata": {},
   "outputs": [],
   "source": []
  },
  {
   "cell_type": "code",
   "execution_count": 17,
   "metadata": {},
   "outputs": [],
   "source": [
    "# Translate"
   ]
  },
  {
   "cell_type": "code",
   "execution_count": null,
   "metadata": {},
   "outputs": [],
   "source": []
  },
  {
   "cell_type": "code",
   "execution_count": null,
   "metadata": {},
   "outputs": [],
   "source": []
  },
  {
   "cell_type": "code",
   "execution_count": null,
   "metadata": {},
   "outputs": [
    {
     "name": "stdout",
     "output_type": "stream",
     "text": [
      "1 th run.\n",
      "1001 th run.\n",
      "2001 th run.\n",
      "3001 th run.\n",
      "4001 th run.\n",
      "5001 th run.\n",
      "6001 th run.\n",
      "7001 th run.\n",
      "8001 th run.\n",
      "9001 th run.\n",
      "10001 th run.\n",
      "11001 th run.\n",
      "12001 th run.\n",
      "13001 th run.\n",
      "14001 th run.\n",
      "15001 th run.\n",
      "16001 th run.\n",
      "17001 th run.\n",
      "18001 th run.\n",
      "19001 th run.\n",
      "20001 th run.\n",
      "21001 th run.\n",
      "22001 th run.\n",
      "23001 th run.\n",
      "24001 th run.\n",
      "25001 th run.\n",
      "26001 th run.\n",
      "27001 th run.\n",
      "28001 th run.\n",
      "29001 th run.\n",
      "30001 th run.\n",
      "31001 th run.\n",
      "32001 th run.\n",
      "33001 th run.\n",
      "34001 th run.\n",
      "35001 th run.\n",
      "36001 th run.\n",
      "37001 th run.\n"
     ]
    }
   ],
   "source": [
    "temp_tweets = []\n",
    "\n",
    "for i,tweet in enumerate(tweets):\n",
    "    try:\n",
    "        if i%1000 == 0:\n",
    "            print(i+1,\"th run.\")\n",
    "        temp_tweets.append(translator.translate(tweet, src='tr', dest='en').text)\n",
    "    except KeyboardInterrupt:\n",
    "        print(\"exited by ctrl+c\")\n",
    "    except:\n",
    "        continue"
   ]
  },
  {
   "cell_type": "code",
   "execution_count": null,
   "metadata": {},
   "outputs": [],
   "source": []
  }
 ],
 "metadata": {
  "kernelspec": {
   "display_name": "Python [conda env:finbert]",
   "language": "python",
   "name": "conda-env-finbert-py"
  },
  "language_info": {
   "codemirror_mode": {
    "name": "ipython",
    "version": 3
   },
   "file_extension": ".py",
   "mimetype": "text/x-python",
   "name": "python",
   "nbconvert_exporter": "python",
   "pygments_lexer": "ipython3",
   "version": "3.7.3"
  }
 },
 "nbformat": 4,
 "nbformat_minor": 4
}
