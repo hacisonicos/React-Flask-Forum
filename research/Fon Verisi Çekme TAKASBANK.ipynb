{
 "cells": [
  {
   "cell_type": "markdown",
   "metadata": {},
   "source": [
    "# Kütüphaneler"
   ]
  },
  {
   "cell_type": "code",
   "execution_count": 1,
   "metadata": {},
   "outputs": [],
   "source": [
    "from newsplease import NewsPlease\n",
    "from googletrans import Translator\n",
    "from tqdm import tqdm_notebook\n",
    "import requests\n",
    "from bs4 import BeautifulSoup\n",
    "import pandas as pd\n",
    "from selenium import webdriver  \n",
    "from selenium.common.exceptions import NoSuchElementException, ElementNotInteractableException\n",
    "from selenium.webdriver.common.keys import Keys \n",
    "from time import sleep\n",
    "\n",
    "from selenium import webdriver\n",
    "from selenium.webdriver.chrome.options import Options\n",
    "\n",
    "import matplotlib.pyplot as plt\n",
    "#chrome_options = Options()\n",
    "#chrome_options.add_argument(\"--headless\")"
   ]
  },
  {
   "cell_type": "markdown",
   "metadata": {},
   "source": [
    "Headless'a şimdilik gerek yok. Takasbank aspx kullanıyor ve 5 yıllık verileri çekebilmek için javascipt render etmemiz gerekiyor"
   ]
  },
  {
   "cell_type": "markdown",
   "metadata": {},
   "source": [
    "#### Driver'ı aktifleştirip chrome sayfası açalım. Chrome driver aynı path'de olması gerekiyor ya da olduğu path verilmesi gerekiyor + Kullanılan chrome'la aynı versiyon olmak zorunda"
   ]
  },
  {
   "cell_type": "code",
   "execution_count": 4,
   "metadata": {},
   "outputs": [],
   "source": [
    "driver = webdriver.Chrome()"
   ]
  },
  {
   "cell_type": "code",
   "execution_count": 5,
   "metadata": {},
   "outputs": [],
   "source": [
    "driver.get(\"https://www.tefas.gov.tr/FonAnaliz.aspx?FonKod=IPJ\")"
   ]
  },
  {
   "cell_type": "code",
   "execution_count": 6,
   "metadata": {},
   "outputs": [],
   "source": [
    "button = driver.find_elements_by_xpath(\"\"\"//*[@id=\"MainContent_RadioButtonListPeriod\"]/li[8]/label\"\"\")[0]\n",
    "button.click()"
   ]
  },
  {
   "cell_type": "code",
   "execution_count": 14,
   "metadata": {},
   "outputs": [],
   "source": [
    "yData = driver.execute_script(\"return Highcharts.charts[3].series[0].yData\")"
   ]
  },
  {
   "cell_type": "code",
   "execution_count": 11,
   "metadata": {},
   "outputs": [],
   "source": [
    "xData = driver.execute_script(\"return Highcharts.charts[3].series[0].xAxis.categories\")"
   ]
  },
  {
   "cell_type": "code",
   "execution_count": 25,
   "metadata": {},
   "outputs": [
    {
     "data": {
      "text/plain": [
       "[<matplotlib.lines.Line2D at 0x1cc0a9f8ba8>]"
      ]
     },
     "execution_count": 25,
     "metadata": {},
     "output_type": "execute_result"
    },
    {
     "data": {
      "image/png": "[encoded data removed]",
      "text/plain": [
       "<Figure size 432x288 with 1 Axes>"
      ]
     },
     "metadata": {
      "needs_background": "light"
     },
     "output_type": "display_data"
    }
   ],
   "source": [
    "plt.plot(pd.to_datetime(xData,infer_datetime_format=True),yData)"
   ]
  },
  {
   "cell_type": "markdown",
   "metadata": {},
   "source": [
    "### Fon Kodlarını alma"
   ]
  },
  {
   "cell_type": "code",
   "execution_count": 2,
   "metadata": {},
   "outputs": [],
   "source": [
    "def get_fund_codes():\n",
    "    \n",
    "    fon = []\n",
    "    borsa_kodu = []\n",
    "    isin_kodu = []\n",
    "    \n",
    "    for i in range(1,23): # Takasbankta toplam 22 sayfa var\n",
    "        url = f\"https://www.takasbank.com.tr/tr/kaynaklar/isin-kodlari/YF?page={i}\"\n",
    "        print(url)\n",
    "        html = requests.get(url).text\n",
    "        soup = BeautifulSoup(html, \"html.parser\")\n",
    "        table = soup.find(\"table\")\n",
    "        \n",
    "        for row in table.find_all(\"tr\")[1:]:\n",
    "            col = row.find_all(\"td\")\n",
    "            fon.append(col[0].text)\n",
    "            borsa_kodu.append(col[1].text)\n",
    "            isin_kodu.append(col[2].text)\n",
    "            \n",
    "    data = dict(\n",
    "        fon = fon,\n",
    "        borsa_kodu = borsa_kodu,\n",
    "        isin_kod = isin_kodu\n",
    "    )\n",
    "    \n",
    "    return data"
   ]
  },
  {
   "cell_type": "code",
   "execution_count": 3,
   "metadata": {},
   "outputs": [
    {
     "name": "stdout",
     "output_type": "stream",
     "text": [
      "https://www.takasbank.com.tr/tr/kaynaklar/isin-kodlari/YF?page=1\n",
      "https://www.takasbank.com.tr/tr/kaynaklar/isin-kodlari/YF?page=2\n",
      "https://www.takasbank.com.tr/tr/kaynaklar/isin-kodlari/YF?page=3\n",
      "https://www.takasbank.com.tr/tr/kaynaklar/isin-kodlari/YF?page=4\n",
      "https://www.takasbank.com.tr/tr/kaynaklar/isin-kodlari/YF?page=5\n",
      "https://www.takasbank.com.tr/tr/kaynaklar/isin-kodlari/YF?page=6\n",
      "https://www.takasbank.com.tr/tr/kaynaklar/isin-kodlari/YF?page=7\n",
      "https://www.takasbank.com.tr/tr/kaynaklar/isin-kodlari/YF?page=8\n",
      "https://www.takasbank.com.tr/tr/kaynaklar/isin-kodlari/YF?page=9\n",
      "https://www.takasbank.com.tr/tr/kaynaklar/isin-kodlari/YF?page=10\n",
      "https://www.takasbank.com.tr/tr/kaynaklar/isin-kodlari/YF?page=11\n",
      "https://www.takasbank.com.tr/tr/kaynaklar/isin-kodlari/YF?page=12\n",
      "https://www.takasbank.com.tr/tr/kaynaklar/isin-kodlari/YF?page=13\n",
      "https://www.takasbank.com.tr/tr/kaynaklar/isin-kodlari/YF?page=14\n",
      "https://www.takasbank.com.tr/tr/kaynaklar/isin-kodlari/YF?page=15\n",
      "https://www.takasbank.com.tr/tr/kaynaklar/isin-kodlari/YF?page=16\n",
      "https://www.takasbank.com.tr/tr/kaynaklar/isin-kodlari/YF?page=17\n",
      "https://www.takasbank.com.tr/tr/kaynaklar/isin-kodlari/YF?page=18\n",
      "https://www.takasbank.com.tr/tr/kaynaklar/isin-kodlari/YF?page=19\n",
      "https://www.takasbank.com.tr/tr/kaynaklar/isin-kodlari/YF?page=20\n",
      "https://www.takasbank.com.tr/tr/kaynaklar/isin-kodlari/YF?page=21\n",
      "https://www.takasbank.com.tr/tr/kaynaklar/isin-kodlari/YF?page=22\n"
     ]
    }
   ],
   "source": [
    "funds = get_fund_codes()"
   ]
  },
  {
   "cell_type": "code",
   "execution_count": 63,
   "metadata": {},
   "outputs": [],
   "source": [
    "#funds = pd.DataFrame(data=funds)\n",
    "\n",
    "#funds.to_csv(\"fon_kodlari.csv\", index=False)\n",
    "\n",
    "#funds = pd.read_csv(\"fon_kodlari.csv\")"
   ]
  },
  {
   "cell_type": "code",
   "execution_count": 4,
   "metadata": {},
   "outputs": [],
   "source": [
    "funds = pd.DataFrame(data=funds)"
   ]
  },
  {
   "cell_type": "code",
   "execution_count": 5,
   "metadata": {},
   "outputs": [
    {
     "data": {
      "text/html": [
       "<div>\n",
       "<style scoped>\n",
       "    .dataframe tbody tr th:only-of-type {\n",
       "        vertical-align: middle;\n",
       "    }\n",
       "\n",
       "    .dataframe tbody tr th {\n",
       "        vertical-align: top;\n",
       "    }\n",
       "\n",
       "    .dataframe thead th {\n",
       "        text-align: right;\n",
       "    }\n",
       "</style>\n",
       "<table border=\"1\" class=\"dataframe\">\n",
       "  <thead>\n",
       "    <tr style=\"text-align: right;\">\n",
       "      <th></th>\n",
       "      <th>fon</th>\n",
       "      <th>borsa_kodu</th>\n",
       "      <th>isin_kod</th>\n",
       "    </tr>\n",
       "  </thead>\n",
       "  <tbody>\n",
       "    <tr>\n",
       "      <th>0</th>\n",
       "      <td>ACTUS PORTFÖY 2020 YATIRIM DÖNEMLİ DEĞİŞKEN FON</td>\n",
       "      <td>ACY</td>\n",
       "      <td>TRYACTU00035</td>\n",
       "    </tr>\n",
       "    <tr>\n",
       "      <th>1</th>\n",
       "      <td>ACTUS PORTFÖY BORÇLANMA ARAÇLARI FONU</td>\n",
       "      <td>ACO</td>\n",
       "      <td>TRYACTU00019</td>\n",
       "    </tr>\n",
       "    <tr>\n",
       "      <th>2</th>\n",
       "      <td>ACTUS PORTFÖY HİSSE SENEDİ FONU (HİSSE SENEDİ ...</td>\n",
       "      <td>ACC</td>\n",
       "      <td>TRYACTU00027</td>\n",
       "    </tr>\n",
       "    <tr>\n",
       "      <th>3</th>\n",
       "      <td>ACTUS PORTFÖY HİTİT SERBEST FON</td>\n",
       "      <td>ACZ</td>\n",
       "      <td>TRYACTU00043</td>\n",
       "    </tr>\n",
       "    <tr>\n",
       "      <th>4</th>\n",
       "      <td>ACTUS PORTFÖY LİDYA SERBEST (DÖVİZ) FON</td>\n",
       "      <td>ACN</td>\n",
       "      <td>TRYACTU00076</td>\n",
       "    </tr>\n",
       "    <tr>\n",
       "      <th>...</th>\n",
       "      <td>...</td>\n",
       "      <td>...</td>\n",
       "      <td>...</td>\n",
       "    </tr>\n",
       "    <tr>\n",
       "      <th>626</th>\n",
       "      <td>İŞ PORTFÖY ÜÇÜNCÜ SERBEST (DÖVİZ) FON</td>\n",
       "      <td>IUU</td>\n",
       "      <td>TRYISPO00449</td>\n",
       "    </tr>\n",
       "    <tr>\n",
       "      <th>627</th>\n",
       "      <td>İŞ PORTFÖY İKİNCİ DEĞİŞKEN FON</td>\n",
       "      <td>TI7</td>\n",
       "      <td>TRMTI7WWWWW7</td>\n",
       "    </tr>\n",
       "    <tr>\n",
       "      <th>628</th>\n",
       "      <td>İŞ PORTFÖY İKİNCİ SERBEST (DÖVİZ) FON</td>\n",
       "      <td>IID</td>\n",
       "      <td>TRYISPO00423</td>\n",
       "    </tr>\n",
       "    <tr>\n",
       "      <th>629</th>\n",
       "      <td>İŞ PORTFÖY İKİNCİ SERBEST (DÖVİZ) ÖZEL FON</td>\n",
       "      <td>ISJ</td>\n",
       "      <td>TRYISPO00159</td>\n",
       "    </tr>\n",
       "    <tr>\n",
       "      <th>630</th>\n",
       "      <td>İŞ PORTFÖY İŞ BANKASI İŞTİRAKLERİ ENDEKSİ HİSS...</td>\n",
       "      <td>TI3</td>\n",
       "      <td>TRMTI3WWWWW6</td>\n",
       "    </tr>\n",
       "  </tbody>\n",
       "</table>\n",
       "<p>631 rows × 3 columns</p>\n",
       "</div>"
      ],
      "text/plain": [
       "                                                   fon borsa_kodu  \\\n",
       "0      ACTUS PORTFÖY 2020 YATIRIM DÖNEMLİ DEĞİŞKEN FON        ACY   \n",
       "1                ACTUS PORTFÖY BORÇLANMA ARAÇLARI FONU        ACO   \n",
       "2    ACTUS PORTFÖY HİSSE SENEDİ FONU (HİSSE SENEDİ ...        ACC   \n",
       "3                      ACTUS PORTFÖY HİTİT SERBEST FON        ACZ   \n",
       "4              ACTUS PORTFÖY LİDYA SERBEST (DÖVİZ) FON        ACN   \n",
       "..                                                 ...        ...   \n",
       "626              İŞ PORTFÖY ÜÇÜNCÜ SERBEST (DÖVİZ) FON        IUU   \n",
       "627                     İŞ PORTFÖY İKİNCİ DEĞİŞKEN FON        TI7   \n",
       "628              İŞ PORTFÖY İKİNCİ SERBEST (DÖVİZ) FON        IID   \n",
       "629         İŞ PORTFÖY İKİNCİ SERBEST (DÖVİZ) ÖZEL FON        ISJ   \n",
       "630  İŞ PORTFÖY İŞ BANKASI İŞTİRAKLERİ ENDEKSİ HİSS...        TI3   \n",
       "\n",
       "         isin_kod  \n",
       "0    TRYACTU00035  \n",
       "1    TRYACTU00019  \n",
       "2    TRYACTU00027  \n",
       "3    TRYACTU00043  \n",
       "4    TRYACTU00076  \n",
       "..            ...  \n",
       "626  TRYISPO00449  \n",
       "627  TRMTI7WWWWW7  \n",
       "628  TRYISPO00423  \n",
       "629  TRYISPO00159  \n",
       "630  TRMTI3WWWWW6  \n",
       "\n",
       "[631 rows x 3 columns]"
      ]
     },
     "execution_count": 5,
     "metadata": {},
     "output_type": "execute_result"
    }
   ],
   "source": [
    "funds"
   ]
  },
  {
   "cell_type": "markdown",
   "metadata": {},
   "source": [
    "Elimizde artık fon kodları ve bunlarla takasbankta dolaşıp 5 yıllık verileri alabiliriz"
   ]
  },
  {
   "cell_type": "code",
   "execution_count": 6,
   "metadata": {},
   "outputs": [],
   "source": [
    "fund_codes = funds[\"borsa_kodu\"].values"
   ]
  },
  {
   "cell_type": "markdown",
   "metadata": {},
   "source": [
    "### Selenium ile Takasbanktan verileri çekme"
   ]
  },
  {
   "cell_type": "code",
   "execution_count": 8,
   "metadata": {},
   "outputs": [],
   "source": [
    "def get_daily_commission_from_kap(url):\n",
    "    #url = \"https://www.kap.org.tr/tr/fon-bilgileri/genel/ipj-is-portfoy-elektrikli-araclar-karma-fon\"\n",
    "    try:\n",
    "        html = requests.get(url).text\n",
    "        soup = BeautifulSoup(html, \"html.parser\")\n",
    "\n",
    "        table = soup.find(\"div\", {\"class\": \"exportClass overfitArea\"})\n",
    "\n",
    "        row = table.find_all(\"a\")[1].find_all(\"div\")\n",
    "        header = table.find_all(\"a\")[0].find_all(\"div\")\n",
    "\n",
    "        header = [head.text.replace(\"\\n\",'').strip() for head in header]\n",
    "        row = [r.text for r in row]\n",
    "\n",
    "        df = pd.DataFrame(data=[header,row])\n",
    "        new_header = df.iloc[0] #grab the first row for the header\n",
    "        df = df[1:] #take the data less the header row\n",
    "        df.columns = new_header #set the header row as the df header\n",
    "\n",
    "        return df[\"Yönetim Ücreti Oranı (Günlük) (%)\"].values[0]\n",
    "    except:\n",
    "        return None"
   ]
  },
  {
   "cell_type": "code",
   "execution_count": 9,
   "metadata": {},
   "outputs": [],
   "source": [
    "driver = webdriver.Chrome()\n",
    "\n",
    "data = []\n",
    "pie_charts = []\n",
    "commission = []\n",
    "\n",
    "for code in fund_codes:\n",
    "    \n",
    "    try:\n",
    "        sleep(0.2)\n",
    "\n",
    "        driver.get(f\"https://www.tefas.gov.tr/FonAnaliz.aspx?FonKod={code}\")\n",
    "        button = driver.find_elements_by_xpath(\"\"\"//*[@id=\"MainContent_RadioButtonListPeriod\"]/li[8]/label\"\"\")[0]\n",
    "        button.click()\n",
    "\n",
    "        sleep(2.2)\n",
    "\n",
    "        yData = driver.execute_script(\"return Highcharts.charts[3].series[0].yData\")\n",
    "        xData = driver.execute_script(\"return Highcharts.charts[3].series[0].xAxis.categories\")\n",
    "\n",
    "        pie_chart = driver.execute_script(\"return Highcharts.charts[1].options.series[0].data\")\n",
    "        kap_link = driver.find_element_by_class_name(\"fund-kap-link\").get_attribute(\"href\")\n",
    "        daily_commission = get_daily_commission_from_kap(kap_link)\n",
    "        \n",
    "        commission.append(daily_commission)\n",
    "        pie_charts.append(pie_chart)\n",
    "        data.append([xData,yData])\n",
    "    except KeyboardInterrupt:\n",
    "        raise(\"Interrupted by user.\")  \n",
    "    except:\n",
    "        data.append([None,None])\n",
    "        pie_charts.append(None)\n",
    "        commission.append(None)\n",
    "        continue\n",
    "    \n",
    "driver.close()"
   ]
  },
  {
   "cell_type": "code",
   "execution_count": 21,
   "metadata": {},
   "outputs": [],
   "source": [
    "# df = pd.DataFrame()\n",
    "# df[\"fon\"] = fund_codes\n",
    "# df[\"icerik\"] = pie_charts\n",
    "# df[\"komisyon_gunluk\"] = commission\n",
    "# df[\"data\"] = data\n",
    "\n",
    "# df.to_csv(\"fon_verisi.csv\",index=False)"
   ]
  },
  {
   "cell_type": "code",
   "execution_count": null,
   "metadata": {},
   "outputs": [],
   "source": []
  },
  {
   "cell_type": "code",
   "execution_count": null,
   "metadata": {},
   "outputs": [],
   "source": []
  },
  {
   "cell_type": "code",
   "execution_count": null,
   "metadata": {},
   "outputs": [],
   "source": []
  },
  {
   "cell_type": "code",
   "execution_count": null,
   "metadata": {},
   "outputs": [],
   "source": []
  },
  {
   "cell_type": "code",
   "execution_count": null,
   "metadata": {},
   "outputs": [],
   "source": []
  },
  {
   "cell_type": "code",
   "execution_count": null,
   "metadata": {},
   "outputs": [],
   "source": []
  },
  {
   "cell_type": "code",
   "execution_count": null,
   "metadata": {},
   "outputs": [],
   "source": []
  },
  {
   "cell_type": "code",
   "execution_count": null,
   "metadata": {},
   "outputs": [],
   "source": []
  },
  {
   "cell_type": "code",
   "execution_count": null,
   "metadata": {},
   "outputs": [],
   "source": []
  },
  {
   "cell_type": "code",
   "execution_count": null,
   "metadata": {},
   "outputs": [],
   "source": []
  },
  {
   "cell_type": "code",
   "execution_count": null,
   "metadata": {},
   "outputs": [],
   "source": []
  },
  {
   "cell_type": "code",
   "execution_count": null,
   "metadata": {},
   "outputs": [],
   "source": []
  },
  {
   "cell_type": "code",
   "execution_count": null,
   "metadata": {},
   "outputs": [],
   "source": []
  },
  {
   "cell_type": "code",
   "execution_count": null,
   "metadata": {},
   "outputs": [],
   "source": []
  },
  {
   "cell_type": "code",
   "execution_count": null,
   "metadata": {},
   "outputs": [],
   "source": []
  },
  {
   "cell_type": "code",
   "execution_count": null,
   "metadata": {},
   "outputs": [],
   "source": []
  },
  {
   "cell_type": "code",
   "execution_count": null,
   "metadata": {},
   "outputs": [],
   "source": []
  },
  {
   "cell_type": "code",
   "execution_count": null,
   "metadata": {},
   "outputs": [],
   "source": []
  },
  {
   "cell_type": "code",
   "execution_count": null,
   "metadata": {},
   "outputs": [],
   "source": []
  },
  {
   "cell_type": "code",
   "execution_count": null,
   "metadata": {},
   "outputs": [],
   "source": []
  },
  {
   "cell_type": "code",
   "execution_count": null,
   "metadata": {},
   "outputs": [],
   "source": []
  },
  {
   "cell_type": "code",
   "execution_count": null,
   "metadata": {},
   "outputs": [],
   "source": []
  },
  {
   "cell_type": "code",
   "execution_count": null,
   "metadata": {},
   "outputs": [],
   "source": []
  },
  {
   "cell_type": "code",
   "execution_count": null,
   "metadata": {},
   "outputs": [],
   "source": []
  },
  {
   "cell_type": "code",
   "execution_count": null,
   "metadata": {},
   "outputs": [],
   "source": []
  },
  {
   "cell_type": "code",
   "execution_count": null,
   "metadata": {},
   "outputs": [],
   "source": []
  },
  {
   "cell_type": "code",
   "execution_count": null,
   "metadata": {},
   "outputs": [],
   "source": []
  },
  {
   "cell_type": "code",
   "execution_count": null,
   "metadata": {},
   "outputs": [],
   "source": []
  },
  {
   "cell_type": "code",
   "execution_count": null,
   "metadata": {},
   "outputs": [],
   "source": []
  },
  {
   "cell_type": "code",
   "execution_count": 187,
   "metadata": {},
   "outputs": [],
   "source": [
    "driver = webdriver.Chrome()\n",
    "\n",
    "driver.get(f\"https://www.tefas.gov.tr/FonAnaliz.aspx?FonKod=TMG\")\n",
    "\n",
    "#sleep(3)\n",
    "\n",
    "button = driver.find_elements_by_xpath(\"\"\"//*[@id=\"MainContent_RadioButtonListPeriod\"]/li[8]/label\"\"\")[0]\n",
    "button.click()\n",
    "\n",
    "sleep(3)\n",
    "\n",
    "yData = driver.execute_script(\"return Highcharts.charts[3].series[0].yData\")\n",
    "xData = driver.execute_script(\"return Highcharts.charts[3].series[0].xAxis.categories\")\n",
    "\n",
    "kap_link = driver.find_element_by_class_name(\"fund-kap-link\").get_attribute(\"href\")\n",
    "\n",
    "pie_chart = driver.execute_script(\"return Highcharts.charts[1].options.series[0].data\")\n",
    "\n",
    "#Kap'tan komisyonları al\n",
    "\n",
    "driver.close()"
   ]
  },
  {
   "cell_type": "code",
   "execution_count": 188,
   "metadata": {},
   "outputs": [
    {
     "data": {
      "text/plain": [
       "'https://www.kap.org.tr/tr/fon-bilgileri/genel/tmg-is-portfoy-yabanci-hisse-senedi-fonu'"
      ]
     },
     "execution_count": 188,
     "metadata": {},
     "output_type": "execute_result"
    }
   ],
   "source": [
    "kap_link"
   ]
  },
  {
   "cell_type": "code",
   "execution_count": 189,
   "metadata": {},
   "outputs": [
    {
     "data": {
      "text/plain": [
       "'0,0061'"
      ]
     },
     "execution_count": 189,
     "metadata": {},
     "output_type": "execute_result"
    }
   ],
   "source": [
    "get_daily_commission_from_kap(kap_link)"
   ]
  },
  {
   "cell_type": "code",
   "execution_count": null,
   "metadata": {},
   "outputs": [],
   "source": []
  }
 ],
 "metadata": {
  "kernelspec": {
   "display_name": "Python [conda env:finance]",
   "language": "python",
   "name": "conda-env-finance-py"
  },
  "language_info": {
   "codemirror_mode": {
    "name": "ipython",
    "version": 3
   },
   "file_extension": ".py",
   "mimetype": "text/x-python",
   "name": "python",
   "nbconvert_exporter": "python",
   "pygments_lexer": "ipython3",
   "version": "3.6.10"
  }
 },
 "nbformat": 4,
 "nbformat_minor": 4
}
