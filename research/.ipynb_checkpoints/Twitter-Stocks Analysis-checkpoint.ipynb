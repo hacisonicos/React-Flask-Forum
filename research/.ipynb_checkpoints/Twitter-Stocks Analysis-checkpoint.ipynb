{
 "cells": [
  {
   "cell_type": "code",
   "execution_count": 3,
   "metadata": {},
   "outputs": [],
   "source": [
    "import texthero as hero\n",
    "import pandas as pd\n",
    "from googletrans import Translator\n",
    "from time import sleep\n",
    "from tqdm.notebook import tqdm"
   ]
  },
  {
   "cell_type": "code",
   "execution_count": 4,
   "metadata": {},
   "outputs": [],
   "source": [
    "translator = Translator()"
   ]
  },
  {
   "cell_type": "code",
   "execution_count": 5,
   "metadata": {},
   "outputs": [],
   "source": [
    "data = pd.read_csv(\"labelled_data.csv\", index_col=[0])"
   ]
  },
  {
   "cell_type": "code",
   "execution_count": 6,
   "metadata": {},
   "outputs": [],
   "source": [
    "data['Tweet'] = hero.remove_urls(data['Tweet'])"
   ]
  },
  {
   "cell_type": "code",
   "execution_count": 7,
   "metadata": {},
   "outputs": [
    {
     "data": {
      "text/html": [
       "<div>\n",
       "<style scoped>\n",
       "    .dataframe tbody tr th:only-of-type {\n",
       "        vertical-align: middle;\n",
       "    }\n",
       "\n",
       "    .dataframe tbody tr th {\n",
       "        vertical-align: top;\n",
       "    }\n",
       "\n",
       "    .dataframe thead th {\n",
       "        text-align: right;\n",
       "    }\n",
       "</style>\n",
       "<table border=\"1\" class=\"dataframe\">\n",
       "  <thead>\n",
       "    <tr style=\"text-align: right;\">\n",
       "      <th></th>\n",
       "      <th>Date</th>\n",
       "      <th>Tweet</th>\n",
       "      <th>Difference</th>\n",
       "      <th>Label</th>\n",
       "    </tr>\n",
       "  </thead>\n",
       "  <tbody>\n",
       "    <tr>\n",
       "      <th>0</th>\n",
       "      <td>2011-12-20</td>\n",
       "      <td>ÇELİK:''KIDEM TAZMİNATININ FONA DÖNÜŞTÜRÜLMESİ...</td>\n",
       "      <td>-0.00865</td>\n",
       "      <td>-1</td>\n",
       "    </tr>\n",
       "    <tr>\n",
       "      <th>1</th>\n",
       "      <td>2011-12-20</td>\n",
       "      <td>İMKB-100 GÜNÜ (%2.73)1384.86 PUAN ARTIŞLA 5212...</td>\n",
       "      <td>-0.00865</td>\n",
       "      <td>-1</td>\n",
       "    </tr>\n",
       "    <tr>\n",
       "      <th>2</th>\n",
       "      <td>2011-12-20</td>\n",
       "      <td>*MERKEZİ YÖNETİM BRÜT DIŞ BORÇ STOKU KASIMDA 1...</td>\n",
       "      <td>-0.00865</td>\n",
       "      <td>-1</td>\n",
       "    </tr>\n",
       "    <tr>\n",
       "      <th>3</th>\n",
       "      <td>2011-12-20</td>\n",
       "      <td>MERKEZİ YÖNETİM BRÜT BORÇ STOKU KASIMDA 514.1 ...</td>\n",
       "      <td>-0.00865</td>\n",
       "      <td>-1</td>\n",
       "    </tr>\n",
       "    <tr>\n",
       "      <th>4</th>\n",
       "      <td>2011-12-20</td>\n",
       "      <td>MERKEZİ YÖNETİM BRÜT İÇ BORÇ STOKU KASIMDA 366...</td>\n",
       "      <td>-0.00865</td>\n",
       "      <td>-1</td>\n",
       "    </tr>\n",
       "    <tr>\n",
       "      <th>...</th>\n",
       "      <td>...</td>\n",
       "      <td>...</td>\n",
       "      <td>...</td>\n",
       "      <td>...</td>\n",
       "    </tr>\n",
       "    <tr>\n",
       "      <th>94281</th>\n",
       "      <td>2020-11-06</td>\n",
       "      <td>BofA Securities, Coca-Cola İçecek için hedef f...</td>\n",
       "      <td>-0.01325</td>\n",
       "      <td>-1</td>\n",
       "    </tr>\n",
       "    <tr>\n",
       "      <th>94282</th>\n",
       "      <td>2020-11-06</td>\n",
       "      <td>Ak Yatırım,  #ULKER 30,00 TL HF ve 'Endeksin Ü...</td>\n",
       "      <td>-0.01325</td>\n",
       "      <td>-1</td>\n",
       "    </tr>\n",
       "    <tr>\n",
       "      <th>94283</th>\n",
       "      <td>2020-11-06</td>\n",
       "      <td>BIST100 GÜNE (%0,04)0,47 PUAN ARTIŞLA 1.180,49...</td>\n",
       "      <td>-0.01325</td>\n",
       "      <td>-1</td>\n",
       "    </tr>\n",
       "    <tr>\n",
       "      <th>94284</th>\n",
       "      <td>2020-11-06</td>\n",
       "      <td>Almanya'da Eylül'de sanayi üretimi aylık %1,6 ...</td>\n",
       "      <td>-0.01325</td>\n",
       "      <td>-1</td>\n",
       "    </tr>\n",
       "    <tr>\n",
       "      <th>94285</th>\n",
       "      <td>2020-11-06</td>\n",
       "      <td>\"Yasal Oyları Saysanız Kolayca Kazandığımı Gör...</td>\n",
       "      <td>-0.01325</td>\n",
       "      <td>-1</td>\n",
       "    </tr>\n",
       "  </tbody>\n",
       "</table>\n",
       "<p>94286 rows × 4 columns</p>\n",
       "</div>"
      ],
      "text/plain": [
       "             Date                                              Tweet  \\\n",
       "0      2011-12-20  ÇELİK:''KIDEM TAZMİNATININ FONA DÖNÜŞTÜRÜLMESİ...   \n",
       "1      2011-12-20  İMKB-100 GÜNÜ (%2.73)1384.86 PUAN ARTIŞLA 5212...   \n",
       "2      2011-12-20  *MERKEZİ YÖNETİM BRÜT DIŞ BORÇ STOKU KASIMDA 1...   \n",
       "3      2011-12-20  MERKEZİ YÖNETİM BRÜT BORÇ STOKU KASIMDA 514.1 ...   \n",
       "4      2011-12-20  MERKEZİ YÖNETİM BRÜT İÇ BORÇ STOKU KASIMDA 366...   \n",
       "...           ...                                                ...   \n",
       "94281  2020-11-06  BofA Securities, Coca-Cola İçecek için hedef f...   \n",
       "94282  2020-11-06  Ak Yatırım,  #ULKER 30,00 TL HF ve 'Endeksin Ü...   \n",
       "94283  2020-11-06  BIST100 GÜNE (%0,04)0,47 PUAN ARTIŞLA 1.180,49...   \n",
       "94284  2020-11-06  Almanya'da Eylül'de sanayi üretimi aylık %1,6 ...   \n",
       "94285  2020-11-06  \"Yasal Oyları Saysanız Kolayca Kazandığımı Gör...   \n",
       "\n",
       "       Difference  Label  \n",
       "0        -0.00865     -1  \n",
       "1        -0.00865     -1  \n",
       "2        -0.00865     -1  \n",
       "3        -0.00865     -1  \n",
       "4        -0.00865     -1  \n",
       "...           ...    ...  \n",
       "94281    -0.01325     -1  \n",
       "94282    -0.01325     -1  \n",
       "94283    -0.01325     -1  \n",
       "94284    -0.01325     -1  \n",
       "94285    -0.01325     -1  \n",
       "\n",
       "[94286 rows x 4 columns]"
      ]
     },
     "execution_count": 7,
     "metadata": {},
     "output_type": "execute_result"
    }
   ],
   "source": [
    "data"
   ]
  },
  {
   "cell_type": "code",
   "execution_count": 17,
   "metadata": {},
   "outputs": [
    {
     "data": {
      "text/plain": [
       "array([\"ÇELİK:''KIDEM TAZMİNATININ FONA DÖNÜŞTÜRÜLMESİ GELECEĞE YÖNELİK BİR BAKIŞ AÇISI, GELECEĞE YÖNELİK BİR DÜZENLEMEDİR''\",\n",
       "       'İMKB-100 GÜNÜ (%2.73)1384.86 PUAN ARTIŞLA 52126.94 PUANDAN KAPATTI',\n",
       "       '*MERKEZİ YÖNETİM BRÜT DIŞ BORÇ STOKU KASIMDA 147.7 MİLYAR TL(ÖNCEKİ 143.1MLR)-HAZİNE',\n",
       "       ...,\n",
       "       'BIST100 GÜNE (%0,04)0,47 PUAN ARTIŞLA 1.180,49 PUANDAN BAŞLADI(FOREKS ANKETİ +1,48)',\n",
       "       \"Almanya'da Eylül'de sanayi üretimi aylık %1,6 (Beklenti %2,5), yıllık -%7,3 oldu.\",\n",
       "       '\"Yasal Oyları Saysanız Kolayca Kazandığımı Görürsünüz\"      '],\n",
       "      dtype=object)"
      ]
     },
     "execution_count": 17,
     "metadata": {},
     "output_type": "execute_result"
    }
   ],
   "source": [
    "tweets"
   ]
  },
  {
   "cell_type": "code",
   "execution_count": 68,
   "metadata": {},
   "outputs": [
    {
     "data": {
      "application/vnd.jupyter.widget-view+json": {
       "model_id": "ccf434dcf49f44df95351876cd4618bf",
       "version_major": 2,
       "version_minor": 0
      },
      "text/plain": [
       "HBox(children=(FloatProgress(value=0.0, max=1000.0), HTML(value='')))"
      ]
     },
     "metadata": {},
     "output_type": "display_data"
    },
    {
     "name": "stdout",
     "output_type": "stream",
     "text": [
      "\n"
     ]
    }
   ],
   "source": [
    "tweets = data[\"Tweet\"].values\n",
    "\n",
    "trans = []\n",
    "\n",
    "for tweet in tqdm(tweets[0:1000]):\n",
    "    while True:\n",
    "        try:\n",
    "            translator = Translator()\n",
    "            translated = translator.translate(tweet, src='tr', dest='en').text\n",
    "            trans.append(translated)\n",
    "        except AttributeError:\n",
    "            continue\n",
    "        break"
   ]
  },
  {
   "cell_type": "code",
   "execution_count": 74,
   "metadata": {},
   "outputs": [],
   "source": [
    "pd.DataFrame(trans, columns=[\"Tweet\"]).to_csv(\"1k.csv\",index=False)"
   ]
  },
  {
   "cell_type": "code",
   "execution_count": null,
   "metadata": {},
   "outputs": [],
   "source": []
  }
 ],
 "metadata": {
  "kernelspec": {
   "display_name": "Python [conda env:finbert]",
   "language": "python",
   "name": "conda-env-finbert-py"
  },
  "language_info": {
   "codemirror_mode": {
    "name": "ipython",
    "version": 3
   },
   "file_extension": ".py",
   "mimetype": "text/x-python",
   "name": "python",
   "nbconvert_exporter": "python",
   "pygments_lexer": "ipython3",
   "version": "3.7.3"
  }
 },
 "nbformat": 4,
 "nbformat_minor": 4
}
